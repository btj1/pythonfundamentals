{
 "cells": [
  {
   "cell_type": "code",
   "execution_count": 1,
   "metadata": {
    "collapsed": false
   },
   "outputs": [
    {
     "name": "stdout",
     "output_type": "stream",
     "text": [
      "a : value : 1 type: <class 'int'> id: 9788992\n",
      "b : value : 2 type: <class 'int'> id: 9789024\n"
     ]
    }
   ],
   "source": [
    "# int \n",
    "a = 1\n",
    "b = a\n",
    "a= b\n",
    "b= 2\n",
    "\n",
    "print(f\"a : value : {a} type: {type(a)} id: {id(a)}\")\n",
    "print(f\"b : value : {b} type: {type(b)} id: {id(b)}\")"
   ]
  },
  {
   "cell_type": "code",
   "execution_count": 2,
   "metadata": {},
   "outputs": [
    {
     "name": "stdout",
     "output_type": "stream",
     "text": [
      "a : value : (1, 4, 5) type: <class 'tuple'> id: 140107068890112\n",
      "b : value : (1, 4, 5) type: <class 'tuple'> id: 140107068890112\n",
      "a : value : (1, 4, 5) type: <class 'tuple'> id: 140107068890112\n",
      "b : value : (7, 7, 5) type: <class 'tuple'> id: 140107068890560\n"
     ]
    }
   ],
   "source": [
    "#tuple change item\n",
    "a = (1,4,5)\n",
    "b = a\n",
    "\n",
    "print(f\"a : value : {a} type: {type(a)} id: {id(a)}\")\n",
    "print(f\"b : value : {b} type: {type(b)} id: {id(b)}\")\n",
    "\n",
    "b= (7,7,5)\n",
    "\n",
    "print(f\"a : value : {a} type: {type(a)} id: {id(a)}\")\n",
    "print(f\"b : value : {b} type: {type(b)} id: {id(b)}\")\n"
   ]
  },
  {
   "cell_type": "code",
   "execution_count": 3,
   "metadata": {
    "collapsed": false
   },
   "outputs": [
    {
     "name": "stdout",
     "output_type": "stream",
     "text": [
      "Assigned a to b\n",
      "a : value : [1, 2, 5] type: <class 'list'> id: 140107002765952\n",
      "b : value : [1, 2, 5] type: <class 'list'> id: 140107002765952\n",
      "changed item in object\n",
      "a : value : [1, 5, 5] type: <class 'list'> id: 140107002765952\n",
      "b : value : [1, 5, 5] type: <class 'list'> id: 140107002765952\n",
      "assigned b to another object\n",
      "a : value : [1, 5, 5] type: <class 'list'> id: 140107002765952\n",
      "b : value : [7, 7, 5] type: <class 'list'> id: 140107002767296\n"
     ]
    }
   ],
   "source": [
    "#list change item\n",
    "a = [1,2,5]\n",
    "b = a\n",
    "print(\"Assigned a to b\")\n",
    "print(f\"a : value : {a} type: {type(a)} id: {id(a)}\")\n",
    "print(f\"b : value : {b} type: {type(b)} id: {id(b)}\")\n",
    "\n",
    "b[1] = 5\n",
    "print(\"changed item in object\")\n",
    "print(f\"a : value : {a} type: {type(a)} id: {id(a)}\")\n",
    "print(f\"b : value : {b} type: {type(b)} id: {id(b)}\")\n",
    "\n",
    "\n",
    "b = [7,7,5]\n",
    "print(\"assigned b to another object\")\n",
    "print(f\"a : value : {a} type: {type(a)} id: {id(a)}\")\n",
    "print(f\"b : value : {b} type: {type(b)} id: {id(b)}\")"
   ]
  },
  {
   "cell_type": "code",
   "execution_count": 4,
   "metadata": {
    "collapsed": false
   },
   "outputs": [
    {
     "name": "stdout",
     "output_type": "stream",
     "text": [
      "Assigned a to b\n",
      "a : value : {1, 5, 6} type: <class 'set'> id: 140107064153696\n",
      "b : value : {1, 5, 6} type: <class 'set'> id: 140107064153696\n",
      "assigned b to another object\n",
      "a : value : {1, 5, 6} type: <class 'set'> id: 140107064153696\n",
      "b : value : {5, 7} type: <class 'set'> id: 140107063126944\n"
     ]
    }
   ],
   "source": [
    "#set change item\n",
    "a = {1,5,6}\n",
    "b = a\n",
    "\n",
    "print(\"Assigned a to b\")\n",
    "print(f\"a : value : {a} type: {type(a)} id: {id(a)}\")\n",
    "print(f\"b : value : {b} type: {type(b)} id: {id(b)}\")\n",
    "\n",
    "b = {7,7,5}\n",
    "print(\"assigned b to another object\")\n",
    "print(f\"a : value : {a} type: {type(a)} id: {id(a)}\")\n",
    "print(f\"b : value : {b} type: {type(b)} id: {id(b)}\")\n",
    "\n"
   ]
  },
  {
   "cell_type": "code",
   "execution_count": 5,
   "metadata": {
    "collapsed": false
   },
   "outputs": [
    {
     "name": "stdout",
     "output_type": "stream",
     "text": [
      "Assigned a to b\n",
      "a : value : {'one': '1', 'two': '6', 'three': '7'} type: <class 'dict'> id: 140107003235008\n",
      "b : value : {'one': '1', 'two': '6', 'three': '7'} type: <class 'dict'> id: 140107003235008\n",
      "assigned b to another object\n",
      "a : value : {'one': '1', 'two': '6', 'three': '7'} type: <class 'dict'> id: 140107003235008\n",
      "b : value : {'one': '7', 'two': '7', 'three': '9'} type: <class 'dict'> id: 140107003234880\n",
      "Changed item in b\n",
      "a : value : {'one': '1', 'two': '6', 'three': '7'} type: <class 'dict'> id: 140107003235008\n",
      "b : value : {'one': 3, 'two': '7', 'three': '9'} type: <class 'dict'> id: 140107003234880\n"
     ]
    }
   ],
   "source": [
    "#dict change item\n",
    "a = {\"one\": \"1\",\n",
    "     \"two\" : \"6\",\n",
    "      \"three\" : \"7\"}\n",
    "b = a\n",
    "print(\"Assigned a to b\")\n",
    "print(f\"a : value : {a} type: {type(a)} id: {id(a)}\")\n",
    "print(f\"b : value : {b} type: {type(b)} id: {id(b)}\")\n",
    "\n",
    "\n",
    "print(\"assigned b to another object\")\n",
    "b = {\"one\": \"7\",\n",
    "     \"two\" : \"7\",\n",
    "     \"three\" : \"9\"}\n",
    "print(f\"a : value : {a} type: {type(a)} id: {id(a)}\")\n",
    "print(f\"b : value : {b} type: {type(b)} id: {id(b)}\")\n",
    "\n",
    "b[\"one\"] = 3\n",
    "print(\"Changed item in b\")\n",
    "print(f\"a : value : {a} type: {type(a)} id: {id(a)}\")\n",
    "print(f\"b : value : {b} type: {type(b)} id: {id(b)}\")"
   ]
  },
  {
   "cell_type": "code",
   "execution_count": 6,
   "metadata": {
    "collapsed": false
   },
   "outputs": [
    {
     "name": "stdout",
     "output_type": "stream",
     "text": [
      "Assigned a to b\n",
      "a : value : 1.5 type: <class 'float'> id: 140107036856720\n",
      "b : value : 1.5 type: <class 'float'> id: 140107036856720\n",
      "assigned b to another object\n",
      "a : value : 1.5 type: <class 'float'> id: 140107036856720\n",
      "b : value : 2.7 type: <class 'float'> id: 140107036859984\n"
     ]
    }
   ],
   "source": [
    "#float \n",
    "a = 1.5\n",
    "b = a\n",
    "\n",
    "print(\"Assigned a to b\")\n",
    "print(f\"a : value : {a} type: {type(a)} id: {id(a)}\")\n",
    "print(f\"b : value : {b} type: {type(b)} id: {id(b)}\")\n",
    "\n",
    "b= 2.7\n",
    "print(\"assigned b to another object\")\n",
    "print(f\"a : value : {a} type: {type(a)} id: {id(a)}\")\n",
    "print(f\"b : value : {b} type: {type(b)} id: {id(b)}\")\n"
   ]
  },
  {
   "cell_type": "code",
   "execution_count": 7,
   "metadata": {
    "collapsed": false
   },
   "outputs": [
    {
     "name": "stdout",
     "output_type": "stream",
     "text": [
      "Assigned a to b\n",
      "a : value : haka type: <class 'str'> id: 140107036900720\n",
      "b : value : haka type: <class 'str'> id: 140107036900720\n",
      "assigned b to another object\n",
      "a : value : haka type: <class 'str'> id: 140107036900720\n",
      "b : value : waka type: <class 'str'> id: 140107003009200\n"
     ]
    }
   ],
   "source": [
    "#string\n",
    "a = \"haka\"\n",
    "b = a\n",
    "\n",
    "print(\"Assigned a to b\")\n",
    "print(f\"a : value : {a} type: {type(a)} id: {id(a)}\")\n",
    "print(f\"b : value : {b} type: {type(b)} id: {id(b)}\")\n",
    "\n",
    "b= \"waka\"\n",
    "print(\"assigned b to another object\")\n",
    "print(f\"a : value : {a} type: {type(a)} id: {id(a)}\")\n",
    "print(f\"b : value : {b} type: {type(b)} id: {id(b)}\")\n",
    "\n",
    "\n",
    "\n",
    "\n"
   ]
  },
  {
   "cell_type": "markdown",
   "metadata": {},
   "source": [
    "Immutable objects like strings, ints floats tuples and set the object itself is not changed, it only can be pointed to another object.\n",
    "mutable objects like lists can be changed and therefore other labels pointing to the same object reflect the change as well. "
   ]
  }
 ],
 "metadata": {
  "kernelspec": {
   "display_name": "Python 3 (system-wide)",
   "language": "python",
   "metadata": {
    "cocalc": {
     "description": "Python 3 programming language",
     "priority": 100,
     "url": "https://www.python.org/"
    }
   },
   "name": "python3",
   "resource_dir": "/ext/jupyter/kernels/python3"
  },
  "language_info": {
   "codemirror_mode": {
    "name": "ipython",
    "version": 3
   },
   "file_extension": ".py",
   "mimetype": "text/x-python",
   "name": "python",
   "nbconvert_exporter": "python",
   "pygments_lexer": "ipython3",
   "version": "3.8.10"
  }
 },
 "nbformat": 4,
 "nbformat_minor": 4
}
